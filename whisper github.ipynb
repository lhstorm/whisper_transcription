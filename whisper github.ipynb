{
 "cells": [
  {
   "attachments": {},
   "cell_type": "markdown",
   "metadata": {},
   "source": [
    "import whisper\n",
    "\n"
   ]
  },
  {
   "cell_type": "code",
   "execution_count": null,
   "metadata": {},
   "outputs": [],
   "source": [
    "import whisper\n",
    "import pydub\n",
    "import warnings\n",
    "import openai\n",
    "from transformers import pipeline\n",
    "\n",
    "#suppress warnings\n",
    "warnings.filterwarnings(\"ignore\")"
   ]
  },
  {
   "cell_type": "code",
   "execution_count": null,
   "metadata": {},
   "outputs": [],
   "source": [
    "openai.api_key = \"\""
   ]
  },
  {
   "cell_type": "code",
   "execution_count": null,
   "metadata": {},
   "outputs": [],
   "source": [
    "from os import path\n",
    "from pydub import AudioSegment\n",
    "\n",
    "# files                                                                         \n",
    "src = \"audio_recordings/test.m4a\"\n",
    "dst = \"audio_recordings/test.mp3\"\n",
    "\n",
    "# convert wav to mp3\n",
    "sound = AudioSegment.from_file(src)   \n",
    "#sound.set_channels(1) # mono\n",
    "#sound.set_frame_rate(16000) # 16000Hz                                                         \n",
    "sound.export(dst, format=\"mp3\")"
   ]
  },
  {
   "cell_type": "code",
   "execution_count": null,
   "metadata": {},
   "outputs": [],
   "source": [
    "model = whisper.load_model(\"base\")\n",
    "result = model.transcribe(dst)\n",
    "print(\"Transcrption: \"+ result[\"text\"][:500])"
   ]
  },
  {
   "cell_type": "code",
   "execution_count": null,
   "metadata": {},
   "outputs": [],
   "source": [
    "# save result to file\n",
    "\n",
    "with open(\"text_transcriptions/result.txt\", \"w\") as f:\n",
    "    f.write(result[\"text\"])\n",
    "\n"
   ]
  },
  {
   "cell_type": "code",
   "execution_count": null,
   "metadata": {},
   "outputs": [],
   "source": [
    "# read in the text file\n",
    "\n",
    "text = open(\"text_transcriptions/result.txt\", \"r\").read()"
   ]
  },
  {
   "cell_type": "code",
   "execution_count": null,
   "metadata": {},
   "outputs": [],
   "source": [
    "# split the text into sentences\n",
    "\n",
    "import re \n",
    "\n",
    "sentences = re.split(r' *[\\.\\?!][\\'\"\\)\\]]* *', text)\n",
    "\n",
    "# First, we will create a function to remove redundant sentences\n",
    "def remove_redundant_sentences(sentences):\n",
    "  # We will store the unique sentences in this list\n",
    "  unique_sentences = []\n",
    "\n",
    "  # Loop through all the sentences in the list\n",
    "  for sentence in sentences:\n",
    "    # Check if the sentence is not already in the list of unique sentences\n",
    "    if sentence not in unique_sentences:\n",
    "      # If it is not, add it to the list of unique sentences\n",
    "      unique_sentences.append(sentence)\n",
    "\n",
    "  # Return the list of unique sentences\n",
    "  return unique_sentences\n",
    "\n",
    "# Now, we can use the function to remove redundant sentences from a list\n",
    "unique_sentences = remove_redundant_sentences(sentences)\n",
    "#print(unique_sentences)  # Output: [\"This is a sentence.\", \"This is another sentence.\"]"
   ]
  },
  {
   "cell_type": "code",
   "execution_count": null,
   "metadata": {},
   "outputs": [],
   "source": [
    "# write each sentence in unique_sentences to a word document titled \"main.docx\"\n",
    "\n",
    "from docx import Document\n",
    "\n",
    "document = Document()\n",
    "\n",
    "for sentence in unique_sentences:\n",
    "    document.add_paragraph(sentence)\n",
    "    \n",
    "document.save('main.docx')\n"
   ]
  }
 ],
 "metadata": {
  "kernelspec": {
   "display_name": "whisperenv",
   "language": "python",
   "name": "python3"
  },
  "language_info": {
   "codemirror_mode": {
    "name": "ipython",
    "version": 3
   },
   "file_extension": ".py",
   "mimetype": "text/x-python",
   "name": "python",
   "nbconvert_exporter": "python",
   "pygments_lexer": "ipython3",
   "version": "3.10.8 (main, Oct 13 2022, 10:17:43) [Clang 14.0.0 (clang-1400.0.29.102)]"
  },
  "orig_nbformat": 4,
  "vscode": {
   "interpreter": {
    "hash": "a96583d51020145ec61782aaedc19ea01769e4474728b5efc34cea9e1f3281e1"
   }
  }
 },
 "nbformat": 4,
 "nbformat_minor": 2
}
